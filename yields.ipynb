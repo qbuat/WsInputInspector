{
 "cells": [
  {
   "cell_type": "code",
   "execution_count": 1,
   "metadata": {
    "collapsed": false
   },
   "outputs": [
    {
     "ename": "ImportError",
     "evalue": "No module named ROOT",
     "output_type": "error",
     "traceback": [
      "\u001b[0;31m---------------------------------------------------------------------------\u001b[0m",
      "\u001b[0;31mImportError\u001b[0m                               Traceback (most recent call last)",
      "\u001b[0;32m<ipython-input-1-13f46b45a2ff>\u001b[0m in \u001b[0;36m<module>\u001b[0;34m()\u001b[0m\n\u001b[0;32m----> 1\u001b[0;31m \u001b[0;32mfrom\u001b[0m \u001b[0mtools\u001b[0m\u001b[0;34m.\u001b[0m\u001b[0myields\u001b[0m \u001b[0;32mimport\u001b[0m \u001b[0mlatex_line\u001b[0m\u001b[0;34m,\u001b[0m \u001b[0mpretty_yield_line\u001b[0m\u001b[0;34m,\u001b[0m \u001b[0msignal_latex_line\u001b[0m\u001b[0;34m\u001b[0m\u001b[0m\n\u001b[0m\u001b[1;32m      2\u001b[0m \u001b[0;32mfrom\u001b[0m \u001b[0mtools\u001b[0m\u001b[0;34m.\u001b[0m\u001b[0manalysis\u001b[0m \u001b[0;32mimport\u001b[0m \u001b[0mmeasurement\u001b[0m\u001b[0;34m\u001b[0m\u001b[0m\n\u001b[1;32m      3\u001b[0m \u001b[0;32mfrom\u001b[0m \u001b[0mtools\u001b[0m\u001b[0;34m.\u001b[0m\u001b[0msample\u001b[0m \u001b[0;32mimport\u001b[0m \u001b[0mSample\u001b[0m\u001b[0;34m\u001b[0m\u001b[0m\n\u001b[1;32m      4\u001b[0m \u001b[0;32mfrom\u001b[0m \u001b[0mtools\u001b[0m\u001b[0;34m.\u001b[0m\u001b[0mplotting\u001b[0m \u001b[0;32mimport\u001b[0m \u001b[0myields_chart\u001b[0m\u001b[0;34m,\u001b[0m \u001b[0msample_pie\u001b[0m\u001b[0;34m,\u001b[0m \u001b[0msignificance_chart\u001b[0m\u001b[0;34m,\u001b[0m \u001b[0msyst_yields_chart\u001b[0m\u001b[0;34m\u001b[0m\u001b[0m\n\u001b[1;32m      5\u001b[0m \u001b[0;32mfrom\u001b[0m \u001b[0mtools\u001b[0m \u001b[0;32mimport\u001b[0m \u001b[0mcategories\u001b[0m\u001b[0;34m\u001b[0m\u001b[0m\n",
      "\u001b[0;32m/Users/quentin/software/WsInputInspector/tools/__init__.py\u001b[0m in \u001b[0;36m<module>\u001b[0;34m()\u001b[0m\n\u001b[0;32m----> 1\u001b[0;31m \u001b[0;32mimport\u001b[0m \u001b[0mrootpy\u001b[0m\u001b[0;34m\u001b[0m\u001b[0m\n\u001b[0m\u001b[1;32m      2\u001b[0m \u001b[0mlog\u001b[0m \u001b[0;34m=\u001b[0m \u001b[0mrootpy\u001b[0m\u001b[0;34m.\u001b[0m\u001b[0mlog\u001b[0m\u001b[0;34m\u001b[0m\u001b[0m\n\u001b[1;32m      3\u001b[0m \u001b[0mlog\u001b[0m \u001b[0;34m=\u001b[0m \u001b[0mlog\u001b[0m\u001b[0;34m[\u001b[0m\u001b[0;34m'tools'\u001b[0m\u001b[0;34m]\u001b[0m\u001b[0;34m\u001b[0m\u001b[0m\n\u001b[1;32m      4\u001b[0m \u001b[0;34m\u001b[0m\u001b[0m\n\u001b[1;32m      5\u001b[0m \u001b[0;32mfrom\u001b[0m \u001b[0;34m.\u001b[0m\u001b[0myields\u001b[0m \u001b[0;32mimport\u001b[0m \u001b[0mPrettyYield\u001b[0m\u001b[0;34m\u001b[0m\u001b[0m\n",
      "\u001b[0;32m/Users/quentin/Library/Python/2.7/lib/python/site-packages/rootpy/__init__.py\u001b[0m in \u001b[0;36m<module>\u001b[0;34m()\u001b[0m\n\u001b[1;32m     26\u001b[0m \u001b[0;31m# DO NOT expose ROOT at module level here since that conflicts with rootpy.ROOT\u001b[0m\u001b[0;34m\u001b[0m\u001b[0;34m\u001b[0m\u001b[0m\n\u001b[1;32m     27\u001b[0m \u001b[0;31m# See issue https://github.com/rootpy/rootpy/issues/343\u001b[0m\u001b[0;34m\u001b[0m\u001b[0;34m\u001b[0m\u001b[0m\n\u001b[0;32m---> 28\u001b[0;31m \u001b[0;32mimport\u001b[0m \u001b[0mROOT\u001b[0m \u001b[0;32mas\u001b[0m \u001b[0mR\u001b[0m\u001b[0;34m\u001b[0m\u001b[0m\n\u001b[0m\u001b[1;32m     29\u001b[0m \u001b[0;34m\u001b[0m\u001b[0m\n\u001b[1;32m     30\u001b[0m \u001b[0;32mfrom\u001b[0m \u001b[0;34m.\u001b[0m\u001b[0mextern\u001b[0m\u001b[0;34m.\u001b[0m\u001b[0msix\u001b[0m \u001b[0;32mimport\u001b[0m \u001b[0mstring_types\u001b[0m\u001b[0;34m\u001b[0m\u001b[0m\n",
      "\u001b[0;31mImportError\u001b[0m: No module named ROOT"
     ]
    }
   ],
   "source": [
    "from tools.yields import latex_line, pretty_yield_line, signal_latex_line\n",
    "from tools.analysis import measurement\n",
    "from tools.sample import Sample\n",
    "from tools.plotting import yields_chart, sample_pie, significance_chart, syst_yields_chart\n",
    "from tools import categories\n",
    "from rootpy.plotting import set_style\n",
    "from rootpy.plotting.base import convert_color\n",
    "import matplotlib.pyplot as plt\n",
    "import matplotlib.patches as mpatches\n",
    "import numpy as np\n",
    "import ROOT\n",
    "%matplotlib inline"
   ]
  },
  {
   "cell_type": "code",
   "execution_count": null,
   "metadata": {
    "collapsed": true
   },
   "outputs": [],
   "source": [
    "from rootpy.io import root_open"
   ]
  },
  {
   "cell_type": "code",
   "execution_count": null,
   "metadata": {
    "collapsed": true
   },
   "outputs": [],
   "source": [
    "channel = 'lephad'\n",
    "lh_file = '~/cernbox/workspaces/htt_fine_binning/lephad_fs46_MMC_Fine_BL_WithModJERVar_WithTheoryEnv.root'\n",
    "hh_file = '~/cernbox/workspaces/htt_fine_binning/hhAll_merged_WSinput_WithTheoryEnv_WithModJERVar.root'\n",
    "ll_file = '~/cernbox/workspaces/htt_fine_binning/leplep_17-09-26.all.dilep_pt.root'\n"
   ]
  },
  {
   "cell_type": "code",
   "execution_count": null,
   "metadata": {
    "collapsed": false
   },
   "outputs": [],
   "source": [
    "hh_rfile = root_open(hh_file, 'read')\n",
    "lh_rfile = root_open(lh_file, 'read')\n",
    "ll_rfile = root_open(ll_file, 'read')\n",
    "\n",
    "hh_meas = measurement(hh_rfile, 'hadhad')\n",
    "lh_meas = measurement(lh_rfile, 'lephad')\n",
    "ll_meas = measurement(ll_rfile, 'leplep')\n",
    "\n",
    "samples = ll_meas.backgrounds\n",
    "data = ll_meas.data\n",
    "\n",
    "hh_cats = categories['hadhad']\n",
    "lh_cats = categories['lephad']\n",
    "ll_cats = categories['leplep']\n",
    "\n",
    "lh_cats_sr = categories['lephad_sr']\n",
    "ll_cats_sr = categories['leplep_sr']\n",
    "\n",
    "\n"
   ]
  },
  {
   "cell_type": "code",
   "execution_count": null,
   "metadata": {
    "collapsed": false
   },
   "outputs": [],
   "source": [
    "plt.figure(1, figsize=(20,8))\n",
    "for icat, cat in enumerate(ll_cats):\n",
    "    plt.subplot(2, 4, icat + 1)    \n",
    "    yields_chart(ll_rfile, ll_meas.backgrounds, ll_meas.data, cat, draw_label=(icat==0 or icat==4))\n",
    "    \n",
    "plt.savefig('lelep_yields.pdf')"
   ]
  },
  {
   "cell_type": "code",
   "execution_count": null,
   "metadata": {
    "collapsed": false
   },
   "outputs": [],
   "source": [
    "plt.figure(1, figsize=(15,10))\n",
    "for icat, cat in enumerate(lh_cats):\n",
    "    plt.subplot(2, 3, icat + 1)    \n",
    "    yields_chart(lh_rfile, lh_meas.backgrounds, lh_meas.data, cat)"
   ]
  },
  {
   "cell_type": "code",
   "execution_count": null,
   "metadata": {
    "collapsed": false
   },
   "outputs": [],
   "source": [
    "plt.figure(1, figsize=(15,10))\n",
    "for icat, cat in enumerate(hh_cats):\n",
    "    plt.subplot(2, 3, icat + 1)    \n",
    "    yields_chart(hh_rfile, hh_meas.backgrounds, hh_meas.data, cat)"
   ]
  },
  {
   "cell_type": "code",
   "execution_count": null,
   "metadata": {
    "collapsed": true
   },
   "outputs": [],
   "source": [
    "def bkg_composition_chart(ax, rfile, meas, categories, stack_start_index=0):\n",
    "    \n",
    "    for i_cat, cat in enumerate(categories):\n",
    "        total_yield = meas.total_background.yields(rfile, cat.cats)[0]\n",
    "        bottom = np.cumsum(np.array([\n",
    "                        s.yields(rfile, cat.cats)[0] / total_yield for s in meas.backgrounds]),\n",
    "                           axis=0)\n",
    "        for i_s, sample in enumerate(meas.backgrounds):\n",
    "            ax.barh(\n",
    "                i_cat + stack_start_index, sample.yields(rfile, cat.cats)[0] / total_yield, 0.6,\n",
    "                alpha=0.9, color=sample.color, align='center',\n",
    "                left=bottom[i_s - 1] if i_s > 0 else 0)\n",
    "        \n"
   ]
  },
  {
   "cell_type": "code",
   "execution_count": null,
   "metadata": {
    "collapsed": false
   },
   "outputs": [],
   "source": [
    "fig, axs = plt.subplots(1,2, figsize=(15, 20))\n",
    "\n",
    "axs[0].grid(axis='x')\n",
    "bkg_composition_chart(axs[0], hh_rfile, hh_meas, hh_cats, stack_start_index=0.5)\n",
    "bkg_composition_chart(axs[0], lh_rfile, lh_meas, lh_cats, stack_start_index=len(hh_cats) + 0.5)\n",
    "bkg_composition_chart(axs[0], ll_rfile, ll_meas, ll_cats, stack_start_index=len(hh_cats + lh_cats) + 0.5)\n",
    "axs[0].set_yticks(np.arange(len(hh_cats + lh_cats + ll_cats)) + 0.5) \n",
    "axs[0].set_yticklabels(\n",
    "    [cat.name for cat in hh_cats] + [cat.name for cat in lh_cats] + [cat.name for cat in ll_cats], \n",
    "    fontsize=12)\n",
    "x_min, x_max = axs[0].get_xlim()\n",
    "axs[0].set_xlim(x_min, 1.01)\n",
    "axs[0].set_title('background composition')\n",
    "table = []\n",
    "table.append([0., 0., 0., 0., 0. , 0.])\n",
    "for cat in ll_cats[::-1]:\n",
    "    tot_bkg = ll_meas.total_background.yields(ll_rfile, cat.cats)[0]\n",
    "    float_row = [tot_bkg] + [s.yields(ll_rfile, cat.cats)[0] for s in ll_meas.backgrounds]\n",
    "    table.append(['{0:1.3f}'.format(np.round(r, decimals=3)) for r in float_row])\n",
    "\n",
    "for cat in lh_cats[::-1]:\n",
    "    tot_bkg = lh_meas.total_background.yields(lh_rfile, cat.cats)[0]\n",
    "    float_row = [tot_bkg] + [s.yields(lh_rfile, cat.cats)[0] for s in lh_meas.backgrounds]\n",
    "    table.append(['{0:1.3f}'.format(np.round(r, decimals=3)) for r in float_row])\n",
    "\n",
    "for cat in hh_cats[::-1]:\n",
    "    tot_bkg = hh_meas.total_background.yields(hh_rfile, cat.cats)[0]\n",
    "    float_row = [tot_bkg] + [s.yields(hh_rfile, cat.cats)[0] for s in hh_meas.backgrounds]\n",
    "    table.append(['{0:1.3f}'.format(np.round(r, decimals=3)) for r in float_row])\n",
    "\n",
    "#columns = ['Total'] + [s.name if s.name != 'VV' else 'Diboson' for s in lh_meas.backgrounds]\n",
    "columns = ['Total', 'Z$\\\\to\\\\tau\\\\tau$', 'Fake', 'Z$\\\\to ll$', 'Top', 'Others'] \n",
    "#columns = ['Total'] + [s.mpl_title for s in lh_meas.backgrounds]\n",
    "colors = [(1., 1., 1.)] + [s.color for s in lh_meas.backgrounds]\n",
    "axs[1].axis('tight')\n",
    "axs[1].axis('off')\n",
    "axs[1].table(cellText=table, \n",
    "          colColours=colors,\n",
    "          colLabels=columns,\n",
    "          loc='right', bbox = [-0.2, 0., 1., 1.],\n",
    "         fontsize=40)\n",
    "axs[1].set_title('background yields', x=0.3)\n",
    "plt.savefig('bkg_composition.pdf')\n",
    "plt.savefig('bkg_composition.eps')"
   ]
  },
  {
   "cell_type": "code",
   "execution_count": null,
   "metadata": {
    "collapsed": false
   },
   "outputs": [],
   "source": [
    "def sig_composition_chart(ax, rfile, meas, categories, stack_start_index=0):\n",
    "    \n",
    "    for i_cat, cat in enumerate(categories):\n",
    "        total_yield = meas.total_signal.yields(rfile, cat.cats)[0]\n",
    "        bottom = np.cumsum(np.array([\n",
    "                        s.yields(rfile, cat.cats)[0] / total_yield for s in meas.signals]),\n",
    "                           axis=0)\n",
    "        for i_s, sample in enumerate(meas.signals):\n",
    "            ax.barh(\n",
    "                i_cat + stack_start_index, sample.yields(rfile, cat.cats)[0] / total_yield, 0.6,\n",
    "                alpha=0.9, color=sample.color, align='center',\n",
    "                left=bottom[i_s - 1] if i_s > 0 else 0)\n",
    "        \n"
   ]
  },
  {
   "cell_type": "code",
   "execution_count": null,
   "metadata": {
    "collapsed": false
   },
   "outputs": [],
   "source": [
    "fig, axs = plt.subplots(1,2, figsize=(20, 20))\n",
    "\n",
    "axs[0].grid(axis='x')\n",
    "sig_composition_chart(axs[0], hh_rfile, hh_meas, hh_cats, stack_start_index=0.5)\n",
    "sig_composition_chart(axs[0], lh_rfile, lh_meas, lh_cats_sr, stack_start_index=len(hh_cats) + 0.5)\n",
    "sig_composition_chart(axs[0], ll_rfile, ll_meas, ll_cats_sr, stack_start_index=len(hh_cats + lh_cats_sr) + 0.5)\n",
    "axs[0].set_yticks(np.arange(len(hh_cats + lh_cats_sr + ll_cats_sr)) + 0.5) \n",
    "axs[0].set_yticklabels(\n",
    "    [cat.name for cat in hh_cats] + [cat.name for cat in lh_cats_sr] + [cat.name for cat in ll_cats_sr], \n",
    "    fontsize=12)\n",
    "x_min, x_max = axs[0].get_xlim()\n",
    "axs[0].set_xlim(x_min, 1.01)\n",
    "axs[0].set_title('signal composition')\n",
    "table = []\n",
    "table.append([0., 0., 0., 0. , 0., 0., 0.])\n",
    "for cat in ll_cats_sr[::-1]:\n",
    "    tot_sig = ll_meas.total_signal.yields(ll_rfile, cat.cats)[0]\n",
    "    tot_bkg = ll_meas.total_background.yields(ll_rfile, cat.cats)[0]\n",
    "    float_row = [s.yields(ll_rfile, cat.cats)[0] for s in ll_meas.signals] + [tot_sig, tot_bkg, tot_sig / np.sqrt(tot_bkg)]\n",
    "    table.append(['{0:1.3f}'.format(np.round(r, decimals=3)) for r in float_row])\n",
    "\n",
    "for cat in lh_cats_sr[::-1]:\n",
    "    tot_sig = lh_meas.total_signal.yields(lh_rfile, cat.cats)[0]\n",
    "    tot_bkg = lh_meas.total_background.yields(lh_rfile, cat.cats)[0]\n",
    "    float_row = [s.yields(lh_rfile, cat.cats)[0] for s in lh_meas.signals] + [tot_sig, tot_bkg, tot_sig / np.sqrt(tot_bkg)]\n",
    "    table.append(['{0:1.3f}'.format(np.round(r, decimals=3)) for r in float_row])\n",
    "\n",
    "for cat in hh_cats[::-1]:\n",
    "    tot_sig = hh_meas.total_signal.yields(hh_rfile, cat.cats)[0]\n",
    "    tot_bkg = hh_meas.total_background.yields(hh_rfile, cat.cats)[0]\n",
    "    float_row = [s.yields(hh_rfile, cat.cats)[0] for s in hh_meas.signals] + [tot_sig, tot_bkg, tot_sig / np.sqrt(tot_bkg)]\n",
    "    table.append(['{0:1.3f}'.format(np.round(r, decimals=3)) for r in float_row])\n",
    "\n",
    "#columns = ['Total'] + [s.name if s.name != 'VV' else 'Diboson' for s in lh_meas.backgrounds]\n",
    "columns = ['VBF', 'ggH', 'VH', 'ttH', 'Total Sig', 'Total Bkg', r'$s / \\sqrt{b}$'] \n",
    "#columns = ['Total'] + [s.mpl_title for s in lh_meas.backgrounds]\n",
    "colors = [s.color for s in lh_meas.signals] + [(1., 1., 1.), (1., 1., 1.), (1., 1., 1.)]\n",
    "axs[1].axis('tight')\n",
    "axs[1].axis('off')\n",
    "a = axs[1].table(cellText=table, \n",
    "          colColours=colors,\n",
    "          colLabels=columns,\n",
    "          loc='right', bbox = [-0.2, 0., 1., 1.])\n",
    "a._cells[(0, 0)]._text.set_color('white')\n",
    "a._cells[(0, 1)]._text.set_color('white')\n",
    "a._cells[(0, 2)]._text.set_color('white')\n",
    "a._cells[(0, 3)]._text.set_color('white')\n",
    "\n",
    "axs[1].set_title(r'signal yields, total bkg and s / $\\sqrt{b}$', x=0.3)\n",
    "plt.savefig('signal_composition.eps')\n",
    "plt.savefig('signal_composition.pdf')"
   ]
  },
  {
   "cell_type": "code",
   "execution_count": null,
   "metadata": {
    "collapsed": false
   },
   "outputs": [],
   "source": []
  },
  {
   "cell_type": "code",
   "execution_count": null,
   "metadata": {
    "collapsed": false
   },
   "outputs": [],
   "source": []
  },
  {
   "cell_type": "code",
   "execution_count": null,
   "metadata": {
    "collapsed": true
   },
   "outputs": [],
   "source": []
  }
 ],
 "metadata": {
  "kernelspec": {
   "display_name": "Python 2",
   "language": "python",
   "name": "python2"
  },
  "language_info": {
   "codemirror_mode": {
    "name": "ipython",
    "version": 2
   },
   "file_extension": ".py",
   "mimetype": "text/x-python",
   "name": "python",
   "nbconvert_exporter": "python",
   "pygments_lexer": "ipython2",
   "version": "2.7.10"
  }
 },
 "nbformat": 4,
 "nbformat_minor": 2
}
