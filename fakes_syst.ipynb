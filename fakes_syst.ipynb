{
 "cells": [
  {
   "cell_type": "code",
   "execution_count": 202,
   "metadata": {
    "collapsed": false
   },
   "outputs": [],
   "source": [
    "import ROOT"
   ]
  },
  {
   "cell_type": "code",
   "execution_count": 203,
   "metadata": {
    "collapsed": true
   },
   "outputs": [],
   "source": [
    "from tools.sample import Sample"
   ]
  },
  {
   "cell_type": "code",
   "execution_count": 204,
   "metadata": {
    "collapsed": true
   },
   "outputs": [],
   "source": [
    "Fake = Sample('Fake', 'grey', 'Fake')"
   ]
  },
  {
   "cell_type": "code",
   "execution_count": 205,
   "metadata": {
    "collapsed": false
   },
   "outputs": [
    {
     "data": {
      "text/plain": [
       "<tools.sample.Sample at 0x12aaa1c50>"
      ]
     },
     "execution_count": 205,
     "metadata": {},
     "output_type": "execute_result"
    }
   ],
   "source": [
    "Fake"
   ]
  },
  {
   "cell_type": "code",
   "execution_count": 206,
   "metadata": {
    "collapsed": false
   },
   "outputs": [
    {
     "name": "stdout",
     "output_type": "stream",
     "text": [
      "Help on Sample in module tools.sample object:\n",
      "\n",
      "class Sample(__builtin__.object)\n",
      " |  Methods defined here:\n",
      " |  \n",
      " |  __init__(self, name, color, title, sub_samples=None)\n",
      " |  \n",
      " |  __str__(self)\n",
      " |  \n",
      " |  hist(self, rfile, cat, name='nominal')\n",
      " |  \n",
      " |  hist_one_cat(self, rfile, cat, hist_name)\n",
      " |  \n",
      " |  systematics(self, cat, rfile)\n",
      " |  \n",
      " |  yields(self, rfile, cat, name='nominal')\n",
      " |  \n",
      " |  yields_systs(self, rfile, cat, sym=True)\n",
      " |  \n",
      " |  ----------------------------------------------------------------------\n",
      " |  Data descriptors defined here:\n",
      " |  \n",
      " |  __dict__\n",
      " |      dictionary for instance variables (if defined)\n",
      " |  \n",
      " |  __weakref__\n",
      " |      list of weak references to the object (if defined)\n",
      " |  \n",
      " |  color\n",
      " |  \n",
      " |  name\n",
      " |  \n",
      " |  title\n",
      "\n"
     ]
    }
   ],
   "source": [
    "help(Fake)"
   ]
  },
  {
   "cell_type": "code",
   "execution_count": 207,
   "metadata": {
    "collapsed": true
   },
   "outputs": [],
   "source": [
    "from rootpy.io import root_open\n",
    "rfile = root_open('/Users/quentin/workspaces_input/ichep_2016/hhAll_WSinput_wFakeUnc.root')"
   ]
  },
  {
   "cell_type": "code",
   "execution_count": 208,
   "metadata": {
    "collapsed": false
   },
   "outputs": [
    {
     "name": "stdout",
     "output_type": "stream",
     "text": [
      "TFile**\t\t/Users/quentin/workspaces_input/ichep_2016/hhAll_WSinput_wFakeUnc.root\t\r\n",
      " TFile*\t\t/Users/quentin/workspaces_input/ichep_2016/hhAll_WSinput_wFakeUnc.root\t\r\n",
      "  KEY: TDirectoryFile\thhAll_QCD_fit;1\thhAll_QCD_fit\r\n",
      "  KEY: TDirectoryFile\thhAll_preselection;1\thhAll_preselection\r\n",
      "  KEY: TDirectoryFile\thhAll_CBA_vbf;1\thhAll_CBA_vbf\r\n",
      "  KEY: TDirectoryFile\thhAll_vbf_lowdr;1\thhAll_vbf_lowdr\r\n",
      "  KEY: TDirectoryFile\thhAll_vbf_highdr_tight;1\thhAll_vbf_highdr_tight\r\n",
      "  KEY: TDirectoryFile\thhAll_vbf_highdr_loose;1\thhAll_vbf_highdr_loose\r\n",
      "  KEY: TDirectoryFile\thhAll_CBA_boost;1\thhAll_CBA_boost\r\n",
      "  KEY: TDirectoryFile\thhAll_boost_tight;1\thhAll_boost_tight\r\n",
      "  KEY: TDirectoryFile\thhAll_boost_loose;1\thhAll_boost_loose\r\n"
     ]
    }
   ],
   "source": [
    "rfile.ls()\n"
   ]
  },
  {
   "cell_type": "code",
   "execution_count": 209,
   "metadata": {
    "collapsed": false
   },
   "outputs": [],
   "source": [
    "cat = 'hhAll_CBA_boost'\n",
    "systs = Fake.systematics(cat, rfile)\n",
    "#systs"
   ]
  },
  {
   "cell_type": "code",
   "execution_count": 210,
   "metadata": {
    "collapsed": true
   },
   "outputs": [],
   "source": [
    "#rfile['CBA_boost']\n"
   ]
  },
  {
   "cell_type": "code",
   "execution_count": 211,
   "metadata": {
    "collapsed": false
   },
   "outputs": [],
   "source": [
    "h_nom = Fake.hist(rfile, cat)"
   ]
  },
  {
   "cell_type": "code",
   "execution_count": 212,
   "metadata": {
    "collapsed": false
   },
   "outputs": [],
   "source": [
    "syst_fake_high = filter(lambda t: 'fake' in t, systs[0])\n",
    "syst_fake_low  = filter(lambda t: 'fake' in t, systs[1])"
   ]
  },
  {
   "cell_type": "code",
   "execution_count": 213,
   "metadata": {
    "collapsed": false
   },
   "outputs": [
    {
     "data": {
      "text/plain": [
       "['hh_fake_extrapolation_high', 'hh_fake_contamination_high']"
      ]
     },
     "execution_count": 213,
     "metadata": {},
     "output_type": "execute_result"
    }
   ],
   "source": [
    "syst_fake_high"
   ]
  },
  {
   "cell_type": "code",
   "execution_count": 214,
   "metadata": {
    "collapsed": false
   },
   "outputs": [
    {
     "data": {
      "text/plain": [
       "['hh_fake_extrapolation_low', 'hh_fake_contamination_low']"
      ]
     },
     "execution_count": 214,
     "metadata": {},
     "output_type": "execute_result"
    }
   ],
   "source": [
    "syst_fake_low"
   ]
  },
  {
   "cell_type": "code",
   "execution_count": 215,
   "metadata": {
    "collapsed": false
   },
   "outputs": [
    {
     "name": "stdout",
     "output_type": "stream",
     "text": [
      "[Hist('hh_fake_extrapolation_high'), Hist('hh_fake_contamination_high')]\n"
     ]
    }
   ],
   "source": [
    "hists_high = []\n",
    "for s in syst_fake_high:\n",
    "    h = Fake.hist(rfile, cat, name=s)\n",
    "    hists_high.append(h)\n",
    "print hists_high"
   ]
  },
  {
   "cell_type": "code",
   "execution_count": 216,
   "metadata": {
    "collapsed": false
   },
   "outputs": [
    {
     "name": "stdout",
     "output_type": "stream",
     "text": [
      "[Hist('hh_fake_extrapolation_low'), Hist('hh_fake_contamination_low')]\n"
     ]
    }
   ],
   "source": [
    "hists_low = []\n",
    "for s in syst_fake_low:\n",
    "    h = Fake.hist(rfile, cat, name=s)\n",
    "    hists_low.append(h)\n",
    "print hists_low"
   ]
  },
  {
   "cell_type": "code",
   "execution_count": 217,
   "metadata": {
    "collapsed": false
   },
   "outputs": [
    {
     "name": "stdout",
     "output_type": "stream",
     "text": [
      "2\n",
      "1\n"
     ]
    }
   ],
   "source": [
    "from tools.fancy import syst_envelop, envelop\n",
    "band = envelop(h_nom, hists_low, hists_high)\n",
    "band_0 = envelop(h_nom, hists_low[0], hists_high[0])"
   ]
  },
  {
   "cell_type": "code",
   "execution_count": 218,
   "metadata": {
    "collapsed": false
   },
   "outputs": [
    {
     "name": "stderr",
     "output_type": "stream",
     "text": [
      "INFO:rootpy.plotting.style:using ROOT style 'ATLAS(shape=rect)'\n"
     ]
    },
    {
     "data": {
      "image/png": "[encoded data removed]",
      "text/plain": [
       "Canvas('Canvas_sJ9aSCQwqtRTAKdSHa6hvN')"
      ]
     },
     "execution_count": 218,
     "metadata": {},
     "output_type": "execute_result"
    }
   ],
   "source": [
    "from rootpy.plotting import set_style, Canvas, Hist, Legend\n",
    "set_style('ATLAS', shape='rect')\n",
    "c = Canvas()\n",
    "h = Hist(10, 40, 200)\n",
    "for b in h:\n",
    "    b.value = 1\n",
    "h.yaxis.SetRangeUser(0.1, 1.9)\n",
    "h.xaxis.title = h_nom.xaxis.title\n",
    "h.yaxis.title = 'Fractional Uncertainty'\n",
    "\n",
    "cat_label = ROOT.TText(45, 1.8, cat)\n",
    "cat_label.SetTextSize(20)\n",
    "h.Draw('HIST')\n",
    "band.color = 'red'\n",
    "band.fillstyle = 'solid'\n",
    "#band.linecolor = 'black'\n",
    "band.linewidth = 2\n",
    "band.legendstyle = 'f'\n",
    "band.Draw('sameE2')\n",
    "band.title = '#oplus {0}'.format(hists_low[-1].name)\n",
    "band_0.fillcolor = 'blue'\n",
    "band_0.fillstyle = 'solid'\n",
    "band_0.legendstyle = 'f'\n",
    "band_0.title = '{0}'.format(hists_low[0].name)\n",
    "band_0.Draw('sameE2')\n",
    "#low.color = 'red'\n",
    "#low.Draw('SAMEHIST')\n",
    "h.Draw('same')\n",
    "cat_label.Draw()\n",
    "leg = Legend([band_0, band], pad=c, textsize=20, rightmargin=0.4)\n",
    "leg.Draw()\n",
    "c.RedrawAxis()\n",
    "c.SaveAs('plots/fractional_fake_uncert_{0}.pdf'.format(cat))\n",
    "c"
   ]
  },
  {
   "cell_type": "code",
   "execution_count": null,
   "metadata": {
    "collapsed": true
   },
   "outputs": [],
   "source": []
  }
 ],
 "metadata": {
  "kernelspec": {
   "display_name": "Python 2",
   "language": "python",
   "name": "python2"
  },
  "language_info": {
   "codemirror_mode": {
    "name": "ipython",
    "version": 2
   },
   "file_extension": ".py",
   "mimetype": "text/x-python",
   "name": "python",
   "nbconvert_exporter": "python",
   "pygments_lexer": "ipython2",
   "version": "2.7.10"
  }
 },
 "nbformat": 4,
 "nbformat_minor": 0
}
