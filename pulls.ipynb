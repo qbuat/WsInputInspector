{
 "cells": [
  {
   "cell_type": "code",
   "execution_count": 1,
   "metadata": {
    "collapsed": false
   },
   "outputs": [
    {
     "data": {
      "application/javascript": [
       "require(['codemirror/mode/clike/clike'], function(Clike) { console.log('ROOTaaS - C++ CodeMirror module loaded'); });"
      ]
     },
     "metadata": {},
     "output_type": "display_data"
    },
    {
     "data": {
      "application/javascript": [
       "IPython.CodeCell.config_defaults.highlight_modes['magic_text/x-c++src'] = {'reg':[/^%%cpp/]};"
      ]
     },
     "metadata": {},
     "output_type": "display_data"
    },
    {
     "name": "stderr",
     "output_type": "stream",
     "text": [
      "INFO:rootpy.plotting.style:using ROOT style 'ATLAS(shape=rect)'\n"
     ]
    },
    {
     "name": "stdout",
     "output_type": "stream",
     "text": [
      "Welcome to ROOTaaS 6.06/08\n"
     ]
    },
    {
     "name": "stderr",
     "output_type": "stream",
     "text": [
      "In file included from input_line_29:1:\r\n",
      "In file included from /usr/include/dlfcn.h:41:\r\n",
      "\u001b[1m/usr/include/Availability.h:24:2: \u001b[0m\u001b[0;1;31merror: \u001b[0m\u001b[1munterminated conditional directive\u001b[0m\r\n",
      "#ifndef __AVAILABILITY__\r\n",
      "\u001b[0;1;32m ^\r\n",
      "\u001b[0m\u001b[1minput_line_32:2:24: \u001b[0m\u001b[0;1;31merror: \u001b[0m\u001b[1muse of undeclared identifier 'RTLD_NOW'\u001b[0m\r\n",
      " (dlopen(\"libRint.so\", RTLD_NOW))\r\n",
      "\u001b[0;1;32m                       ^\r\n",
      "\u001b[0m"
     ]
    }
   ],
   "source": [
    "from rootpy.plotting import set_style\n",
    "import ROOT\n",
    "import pickle\n",
    "import itertools\n",
    "import uuid\n",
    "from rootpy.memory import keepalive\n",
    "set_style('ATLAS', shape='rect')"
   ]
  },
  {
   "cell_type": "code",
   "execution_count": 3,
   "metadata": {
    "collapsed": false
   },
   "outputs": [],
   "source": [
    "def pull_plot(dict, comb, np_name):\n",
    "    size = len(comb)\n",
    "    #print size\n",
    "\n",
    "    c = ROOT.TCanvas('c_{}'.format(uuid.uuid1().hex), np_name, 1000, 400)\n",
    "    c.SetTopMargin(0.1)\n",
    "    c.SetLeftMargin(0.05)\n",
    "\n",
    "    ymin, ymax = -1.1, 1.1\n",
    "    gr = ROOT.TGraphAsymmErrors(size)\n",
    "    h = ROOT.TH1F('h_{}'.format(uuid.uuid1().hex), 'h_temp', size, 0, size)\n",
    "    ip = 0\n",
    "    for (cat, channel) in comb:\n",
    "        k = cat\n",
    "        kk = channel\n",
    "        #print k, kk, dict[k][kk][np_name]\n",
    "        nom, low, high = dict[k][kk][np_name]\n",
    "        gr.SetPoint(ip, ip + 0.5, nom)\n",
    "        gr.SetPointError(ip, 0.5, 0.5, -1 * low, high)\n",
    "        #h.SetBinContent(ip + 1, 0)\n",
    "        if 'boost' in k:\n",
    "            icol = 2\n",
    "        elif 'vbf' in k:\n",
    "            icol = ROOT.kGreen + 2\n",
    "        else:\n",
    "            icol = 1\n",
    "\n",
    "        h.GetXaxis().SetBinLabel(ip + 1,  '#color[{0}]{{{1} {2}}}'.format(icol, k, kk))\n",
    "        ip = ip + 1\n",
    "\n",
    "\n",
    "    h.GetXaxis().SetTitle('signal region')\n",
    "    h.GetYaxis().SetTitle('pulls')\n",
    "    h.GetXaxis().SetTitleSize(0.5 * h.GetXaxis().GetTitleSize())\n",
    "    h.GetYaxis().SetTitleSize(0.5 * h.GetYaxis().GetTitleSize())\n",
    "    h.GetYaxis().SetTitleOffset(0.5)\n",
    "    h.GetXaxis().SetLabelSize(0.4 * h.GetXaxis().GetLabelSize())\n",
    "    h.GetYaxis().SetLabelSize(0.5 * h.GetYaxis().GetLabelSize())\n",
    "    h.GetYaxis().SetRangeUser(ymin, ymax)\n",
    "\n",
    "    ttext = ROOT.TText(\n",
    "        c.GetLeftMargin(), 1 - c.GetTopMargin() + 0.02,\n",
    "        'nuisance parameter: {0}'.format(np_name))\n",
    "    ttext.SetNDC(True)\n",
    "    ttext.SetTextSize(20)\n",
    "    lines = [\n",
    "        ROOT.TLine(0, 1.0, size, 1.0),\n",
    "        ROOT.TLine(0, 0.5, size, 0.5),\n",
    "        ROOT.TLine(0, -0.5, size, -0.5),\n",
    "        ROOT.TLine(0, -1.0, size, -1.0),\n",
    "        ]\n",
    "    h.Draw('HIST')\n",
    "    gr.Draw('sameP')\n",
    "    ttext.Draw('same')\n",
    "    for l in lines:\n",
    "        l.SetLineStyle(ROOT.kDashed)\n",
    "        l.Draw('same')\n",
    "    c.Update()\n",
    "    #keepalive(h)\n",
    "    #print h.GetXaxis().GetBinLabel(2)\n",
    "    #c.SaveAs('pulls_{0}.png'.format(np_name))\n",
    "    return c"
   ]
  },
  {
   "cell_type": "code",
   "execution_count": 4,
   "metadata": {
    "collapsed": true
   },
   "outputs": [],
   "source": [
    "def load_obj(name):\n",
    "    with open(name, 'rb') as f:\n",
    "        return pickle.load(f)"
   ]
  },
  {
   "cell_type": "code",
   "execution_count": 5,
   "metadata": {
    "collapsed": false
   },
   "outputs": [
    {
     "name": "stdout",
     "output_type": "stream",
     "text": [
      "ATLAS_JES_PU_Rho\n",
      "ATLAS_PRW_DATASF\n",
      "ATLAS_TAU_EFF_ID_TOTAL\n",
      "ATLAS_TAU_TES_INSITU\n",
      "ATLAS_TAU_TES_MODEL\n",
      "ZttTheory_CKK\n",
      "ZttTheory_qsf\n",
      "jet_jer_np0\n",
      "jet_jer_np1\n",
      "jet_jer_np2\n",
      "jet_jer_np3\n",
      "jet_jer_np4\n",
      "jet_jer_np5\n"
     ]
    }
   ],
   "source": [
    "\n",
    "channels = ['all', 'lephad', 'hadhad', 'leplep']\n",
    "categories = ['all', 'vbf', 'boost']#, 'boost tight']\n",
    "#comb = [('all', 'all')]\n",
    "comb = [c for c in itertools.product(categories, channels)]\n",
    "\n",
    "dict = load_obj('/Users/quentin/pulls_dict_rebinned.pkl')\n",
    "np_names = dict['all']['all'].keys()\n",
    "for n in sorted(np_names):\n",
    "    print n"
   ]
  },
  {
   "cell_type": "code",
   "execution_count": 6,
   "metadata": {
    "collapsed": false
   },
   "outputs": [
    {
     "data": {
      "image/png": "[encoded data removed]",
      "text/plain": [
       "<ROOT.TCanvas object (\"c_6588d4b5c89811e7a2b47831c1d4d0de\") at 0x7fcf3a31e730>"
      ]
     },
     "execution_count": 6,
     "metadata": {},
     "output_type": "execute_result"
    }
   ],
   "source": [
    "dict = load_obj('/Users/quentin/pulls_dict_rebinned.pkl')\n",
    "pull_plot(dict, comb, 'ATLAS_TAU_TES_INSITU')"
   ]
  },
  {
   "cell_type": "code",
   "execution_count": 7,
   "metadata": {
    "collapsed": false
   },
   "outputs": [
    {
     "data": {
      "image/png": "[encoded data removed]",
      "text/plain": [
       "<ROOT.TCanvas object (\"c_664c5d80c89811e7bf3a7831c1d4d0de\") at 0x7fcf3a14caa0>"
      ]
     },
     "execution_count": 7,
     "metadata": {},
     "output_type": "execute_result"
    }
   ],
   "source": [
    "pull_plot(dict, comb, 'ATLAS_JES_PU_Rho')"
   ]
  },
  {
   "cell_type": "code",
   "execution_count": 8,
   "metadata": {
    "collapsed": false
   },
   "outputs": [
    {
     "data": {
      "image/png": "[encoded data removed]",
      "text/plain": [
       "<ROOT.TCanvas object (\"c_66c8a3c2c89811e7bf6c7831c1d4d0de\") at 0x7fcf3a29f920>"
      ]
     },
     "execution_count": 8,
     "metadata": {},
     "output_type": "execute_result"
    }
   ],
   "source": [
    "pull_plot(dict, comb, 'ATLAS_TAU_EFF_ID_TOTAL')"
   ]
  },
  {
   "cell_type": "code",
   "execution_count": 9,
   "metadata": {
    "collapsed": false
   },
   "outputs": [
    {
     "data": {
      "image/png": "[encoded data removed]",
      "text/plain": [
       "<ROOT.TCanvas object (\"c_69345251c89811e7b9ae7831c1d4d0de\") at 0x7fcf3a2a1150>"
      ]
     },
     "execution_count": 9,
     "metadata": {},
     "output_type": "execute_result"
    }
   ],
   "source": [
    "pull_plot(dict, comb, 'jet_jer_np0')"
   ]
  },
  {
   "cell_type": "code",
   "execution_count": null,
   "metadata": {
    "collapsed": true
   },
   "outputs": [],
   "source": []
  },
  {
   "cell_type": "code",
   "execution_count": null,
   "metadata": {
    "collapsed": true
   },
   "outputs": [],
   "source": []
  }
 ],
 "metadata": {
  "kernelspec": {
   "display_name": "Python 2",
   "language": "python",
   "name": "python2"
  },
  "language_info": {
   "codemirror_mode": {
    "name": "ipython",
    "version": 2
   },
   "file_extension": ".py",
   "mimetype": "text/x-python",
   "name": "python",
   "nbconvert_exporter": "python",
   "pygments_lexer": "ipython2",
   "version": "2.7.10"
  }
 },
 "nbformat": 4,
 "nbformat_minor": 2
}
