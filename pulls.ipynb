{
 "cells": [
  {
   "cell_type": "code",
   "execution_count": 10,
   "metadata": {},
   "outputs": [],
   "source": [
    "#from rootpy.plotting import set_style\n",
    "#from rootpy import ROOT\n",
    "import ROOT\n",
    "import pickle\n",
    "import itertools\n",
    "import uuid\n",
    "#from rootpy.memory import keepalive\n",
    "#set_style('ATLAS', shape='rect')"
   ]
  },
  {
   "cell_type": "code",
   "execution_count": 11,
   "metadata": {},
   "outputs": [],
   "source": [
    "def pull_plot(dict, comb, np_name):\n",
    "    size = len(comb)\n",
    "    #print size\n",
    "\n",
    "    c = ROOT.TCanvas('c_{}'.format(uuid.uuid1().hex), np_name, 1000, 400)\n",
    "    c.SetTopMargin(0.1)\n",
    "    c.SetLeftMargin(0.05)\n",
    "\n",
    "    ymin, ymax = -1.1, 1.1\n",
    "    gr = ROOT.TGraphAsymmErrors(size)\n",
    "    h = ROOT.TH1F('h_{}'.format(uuid.uuid1().hex), 'h_temp', size, 0, size)\n",
    "    ip = 0\n",
    "    for (cat, channel) in comb:\n",
    "        k = cat\n",
    "        kk = channel\n",
    "        #print k, kk, dict[k][kk][np_name]\n",
    "        nom, low, high = dict[k][kk][np_name]\n",
    "        gr.SetPoint(ip, ip + 0.5, nom)\n",
    "        gr.SetPointError(ip, 0.5, 0.5, -1 * low, high)\n",
    "        #h.SetBinContent(ip + 1, 0)\n",
    "        if 'boost' in k:\n",
    "            icol = 2\n",
    "        elif 'vbf' in k:\n",
    "            icol = ROOT.kGreen + 2\n",
    "        else:\n",
    "            icol = 1\n",
    "\n",
    "        h.GetXaxis().SetBinLabel(ip + 1,  '#color[{0}]{{{1} {2}}}'.format(icol, k, kk))\n",
    "        ip = ip + 1\n",
    "\n",
    "\n",
    "    h.GetXaxis().SetTitle('signal region')\n",
    "    h.GetYaxis().SetTitle('pulls')\n",
    "    h.GetXaxis().SetTitleSize(0.5 * h.GetXaxis().GetTitleSize())\n",
    "    h.GetYaxis().SetTitleSize(0.5 * h.GetYaxis().GetTitleSize())\n",
    "    h.GetYaxis().SetTitleOffset(0.5)\n",
    "    h.GetXaxis().SetLabelSize(0.4 * h.GetXaxis().GetLabelSize())\n",
    "    h.GetYaxis().SetLabelSize(0.5 * h.GetYaxis().GetLabelSize())\n",
    "    h.GetYaxis().SetRangeUser(ymin, ymax)\n",
    "\n",
    "    ttext = ROOT.TText(\n",
    "        c.GetLeftMargin(), 1 - c.GetTopMargin() + 0.02,\n",
    "        'nuisance parameter: {0}'.format(np_name))\n",
    "    ttext.SetNDC(True)\n",
    "    ttext.SetTextSize(20)\n",
    "    lines = [\n",
    "        ROOT.TLine(0, 1.0, size, 1.0),\n",
    "        ROOT.TLine(0, 0.5, size, 0.5),\n",
    "        ROOT.TLine(0, -0.5, size, -0.5),\n",
    "        ROOT.TLine(0, -1.0, size, -1.0),\n",
    "        ]\n",
    "    h.Draw('HIST')\n",
    "    gr.Draw('sameP')\n",
    "    ttext.Draw('same')\n",
    "    for l in lines:\n",
    "        l.SetLineStyle(ROOT.kDashed)\n",
    "        l.Draw('same')\n",
    "    c.Update()\n",
    "    #keepalive(h)\n",
    "    #print h.GetXaxis().GetBinLabel(2)\n",
    "    #c.SaveAs('pulls_{0}.png'.format(np_name))\n",
    "    return c"
   ]
  },
  {
   "cell_type": "code",
   "execution_count": 12,
   "metadata": {},
   "outputs": [],
   "source": [
    "def load_obj(name):\n",
    "    with open(name, 'rb') as f:\n",
    "        return pickle.load(f)"
   ]
  },
  {
   "cell_type": "code",
   "execution_count": 13,
   "metadata": {},
   "outputs": [
    {
     "name": "stdout",
     "output_type": "stream",
     "text": [
      "ATLAS_JES_PU_Rho\n",
      "ATLAS_PRW_DATASF\n",
      "ATLAS_TAU_EFF_ID_TOTAL\n",
      "ATLAS_TAU_TES_INSITU\n",
      "ATLAS_TAU_TES_MODEL\n",
      "ZttTheory_CKK\n",
      "ZttTheory_qsf\n",
      "jet_jer_np0\n",
      "jet_jer_np1\n",
      "jet_jer_np2\n",
      "jet_jer_np3\n",
      "jet_jer_np4\n",
      "jet_jer_np5\n"
     ]
    }
   ],
   "source": [
    "\n",
    "channels = ['all', 'lephad', 'hadhad', 'leplep']\n",
    "categories = ['all', 'vbf', 'boost']#, 'boost tight']\n",
    "#comb = [('all', 'all')]\n",
    "comb = [c for c in itertools.product(categories, channels)]\n",
    "\n",
    "dict = load_obj('/Users/quentin/pulls_dict_rebinned.pkl')\n",
    "np_names = dict['all']['all'].keys()\n",
    "for n in sorted(np_names):\n",
    "    print n"
   ]
  },
  {
   "cell_type": "code",
   "execution_count": 21,
   "metadata": {},
   "outputs": [
    {
     "name": "stderr",
     "output_type": "stream",
     "text": [
      "Info in <TCanvas::Print>: ps file c_128294c0c95411e780587200030d8760.ps has been created\n"
     ]
    }
   ],
   "source": [
    "dict = load_obj('/Users/quentin/pulls_dict_rebinned.pkl')\n",
    "c = pull_plot(dict, comb, 'ATLAS_TAU_TES_INSITU')"
   ]
  },
  {
   "cell_type": "code",
   "execution_count": 20,
   "metadata": {},
   "outputs": [
    {
     "data": {
      "text/plain": [
       "<ROOT.TCanvas object (\"c_0e0d50ebc95411e7a3497200030d8760\") at 0x7ffcdb4a0490>"
      ]
     },
     "execution_count": 20,
     "metadata": {},
     "output_type": "execute_result"
    }
   ],
   "source": [
    "dict = load_obj('/Users/quentin/pulls_dict.pkl')\n",
    "pull_plot(dict, comb, 'ATLAS_TAU_TES_INSITU')"
   ]
  },
  {
   "cell_type": "code",
   "execution_count": 16,
   "metadata": {},
   "outputs": [
    {
     "data": {
      "text/plain": [
       "<ROOT.TCanvas object (\"c_fcd3c868c95311e79efe7200030d8760\") at 0x7ffcdb51b0e0>"
      ]
     },
     "execution_count": 16,
     "metadata": {},
     "output_type": "execute_result"
    }
   ],
   "source": [
    "dict = load_obj('/Users/quentin/pulls_dict_rebinned.pkl')\n",
    "pull_plot(dict, comb, 'jet_jer_np0')"
   ]
  },
  {
   "cell_type": "code",
   "execution_count": 17,
   "metadata": {},
   "outputs": [
    {
     "data": {
      "text/plain": [
       "<ROOT.TCanvas object (\"c_fcdd6419c95311e787757200030d8760\") at 0x7ffcdb5065a0>"
      ]
     },
     "execution_count": 17,
     "metadata": {},
     "output_type": "execute_result"
    }
   ],
   "source": [
    "dict = load_obj('/Users/quentin/pulls_dict.pkl')\n",
    "pull_plot(dict, comb, 'jet_jer_np0')"
   ]
  },
  {
   "cell_type": "code",
   "execution_count": null,
   "metadata": {},
   "outputs": [],
   "source": []
  },
  {
   "cell_type": "code",
   "execution_count": null,
   "metadata": {},
   "outputs": [],
   "source": []
  }
 ],
 "metadata": {
  "kernelspec": {
   "display_name": "Python 2",
   "language": "python",
   "name": "python2"
  },
  "language_info": {
   "codemirror_mode": {
    "name": "ipython",
    "version": 2
   },
   "file_extension": ".py",
   "mimetype": "text/x-python",
   "name": "python",
   "nbconvert_exporter": "python",
   "pygments_lexer": "ipython2",
   "version": "2.7.10"
  }
 },
 "nbformat": 4,
 "nbformat_minor": 2
}
