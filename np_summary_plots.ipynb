{
 "cells": [
  {
   "cell_type": "code",
   "execution_count": 1,
   "metadata": {},
   "outputs": [
    {
     "name": "stdout",
     "output_type": "stream",
     "text": [
      "Welcome to JupyROOT 6.10/08\n"
     ]
    },
    {
     "name": "stderr",
     "output_type": "stream",
     "text": [
      "/System/Library/Frameworks/Python.framework/Versions/2.7/lib/python2.7/inspect.py:253: RuntimeWarning: creating converter for unknown type \"_Atomic(bool)\"\n",
      "  value = getattr(object, key)\n",
      "INFO:rootpy.plotting.style] using ROOT style 'ATLAS(shape=rect)'\n"
     ]
    }
   ],
   "source": [
    "import ROOT\n",
    "from rootpy.io import root_open\n",
    "from rootpy.plotting import Canvas, set_style, Legend\n",
    "from tools.analysis import measurement\n",
    "from tools import categories\n",
    "from IPython.display import Image\n",
    "import uuid\n",
    "import math\n",
    "#import rootnotes\n",
    "#%matplotlib inline\n",
    "set_style('ATLAS', shape='rect')"
   ]
  },
  {
   "cell_type": "code",
   "execution_count": 2,
   "metadata": {},
   "outputs": [],
   "source": [
    "ll_file = '~/cernbox/workspaces/htt_fine_binning_jan15/leplep_17-12-08.all.MGZttShowerSys.mmc_mlm_WithTheoryEnv_WithModJERVar_fakes_1GeV.root'\n",
    "lh_file = '~/cernbox/workspaces/htt_fine_binning_jan15/lephad_fs51_MMC_Fine_ouf.root'\n",
    "hh_file = '~/cernbox/workspaces/htt_fine_binning_jan15/hhAll_merged_WSinput_WithTheoryEnv_WithModJERVar.root'\n",
    "\n",
    "ll_rfile = root_open(ll_file)\n",
    "lh_rfile = root_open(lh_file)\n",
    "hh_rfile = root_open(hh_file)\n",
    "\n"
   ]
  },
  {
   "cell_type": "code",
   "execution_count": 3,
   "metadata": {},
   "outputs": [],
   "source": [
    "ll_meas = measurement(ll_rfile, 'leplep')\n",
    "lh_meas = measurement(lh_rfile, 'lephad')\n",
    "hh_meas = measurement(hh_rfile, 'hadhad')"
   ]
  },
  {
   "cell_type": "code",
   "execution_count": 4,
   "metadata": {},
   "outputs": [],
   "source": [
    "ll_cat_vbf_sr = categories['leplep_vbf_sr']\n",
    "lh_cat_vbf_sr = categories['lephad_vbf_sr']\n",
    "hh_cat_vbf_sr = categories['hadhad_vbf']\n",
    "\n",
    "ll_cat_bst_sr = categories['leplep_boost_sr']\n",
    "lh_cat_bst_sr = categories['lephad_boost_sr']\n",
    "hh_cat_bst_sr = categories['hadhad_boost']\n",
    "\n",
    "\n",
    "\n",
    "measurements = [ll_meas, lh_meas, hh_meas]\n",
    "category_vbf_list = [ll_cat_vbf_sr, lh_cat_vbf_sr, hh_cat_vbf_sr]\n",
    "category_bst_list = [ll_cat_bst_sr, lh_cat_bst_sr, hh_cat_bst_sr]\n",
    "\n",
    "\n",
    "jer_nps = [\n",
    "    ('jet_jer_np0_high', 'jet_jer_np0_low'),\n",
    "    ('jet_jer_np1_high', 'jet_jer_np1_low'),\n",
    "    ('jet_jer_np2_high', 'jet_jer_np2_low'),\n",
    "    ('jet_jer_np3_high', 'jet_jer_np3_low'),\n",
    "    ('jet_jer_np4_high', 'jet_jer_np4_low'),\n",
    "    ('jet_jer_np5_high', 'jet_jer_np5_low'),\n",
    "    ('jet_jer_np6_high', 'jet_jer_np6_low'),\n",
    "    ('jet_jer_np7_high', 'jet_jer_np7_low'),\n",
    "    ('jet_jer_np8_high', 'jet_jer_np8_low'),\n",
    "    ('jet_jer_crosscalibfwd_high', 'jet_jer_crosscalibfwd_low'),\n",
    "    ('jet_jer_noisefwd_high', 'jet_jer_noisefwd_low'),\n",
    "    ('jet_jes_bjes_response_high', 'jet_jes_bjes_response_low'),\n",
    "    ('jet_jes_effectivenp_1_high', 'jet_jes_effectivenp_1_low'),\n",
    "    ('jet_jes_effectivenp_2_high', 'jet_jes_effectivenp_2_low'),\n",
    "    ('jet_jes_effectivenp_3_high', 'jet_jes_effectivenp_3_low'),\n",
    "    ('jet_jes_effectivenp_4_high', 'jet_jes_effectivenp_4_low'),\n",
    "    ('jet_jes_effectivenp_5_high', 'jet_jes_effectivenp_5_low'),\n",
    "    ('jet_jes_effectivenp_6_high', 'jet_jes_effectivenp_6_low'),\n",
    "    ('jet_jes_effectivenp_7_high', 'jet_jes_effectivenp_7_low'),\n",
    "    ('jet_jes_effectivenp_8restterm_high', 'jet_jes_effectivenp_8restterm_low'),\n",
    "    ('jet_jes_etaintercalibration_modelling_high', 'jet_jes_etaintercalibration_modelling_low'),\n",
    "    ('jet_jes_etaintercalibration_nonclosure_high', 'jet_jes_etaintercalibration_nonclosure_low'),\n",
    "    ('jet_jes_etaintercalibration_totalstat_high', 'jet_jes_etaintercalibration_totalstat_low'),\n",
    "    ('jet_jes_flavor_composition_high', 'jet_jes_flavor_composition_low'),\n",
    "    ('jet_jes_flavor_response_high', 'jet_jes_flavor_response_low'),\n",
    "    ('jet_jes_pileup_offsetmu_high', 'jet_jes_pileup_offsetmu_low'),\n",
    "    ('jet_jes_pileup_offsetnpv_high', 'jet_jes_pileup_offsetnpv_low'),\n",
    "    ('jet_jes_pileup_ptterm_high', 'jet_jes_pileup_ptterm_low'),\n",
    "    ('jet_jes_pileup_rhotopology_high', 'jet_jes_pileup_rhotopology_low'),\n",
    "    ('jet_jes_punchthrough_mc15_high', 'jet_jes_punchthrough_mc15_low'),\n",
    "    ('jet_jes_singleparticle_highpt_high', 'jet_jes_singleparticle_highpt_low'),\n",
    "    ('jet_jvteff_high', 'jet_jvteff_low'),    \n",
    "]"
   ]
  },
  {
   "cell_type": "code",
   "execution_count": 19,
   "metadata": {},
   "outputs": [],
   "source": [
    "\n",
    "\n",
    "def np_summary_plot(meas_list, cats_list, systematics, sample_name='Ztt'):\n",
    "    if len(meas_list) != len(cats_list):\n",
    "        raise ValueError('not the same number of measurements and category lists')\n",
    "\n",
    "    length = sum(len(x) for x in cats_list)\n",
    "    h_nom = ROOT.TH1F(uuid.uuid4().hex, 'np_summary', length, 0, length)\n",
    "    g_nom = ROOT.TGraphAsymmErrors(length)\n",
    "    h_sys = ROOT.TGraphAsymmErrors(length)\n",
    "    meas_cat_unnested = []\n",
    "    for meas, cats in zip(meas_list, cats_list):\n",
    "        for cat in cats:\n",
    "            meas_cat_unnested.append((meas, cat))\n",
    "                          \n",
    "    # iterate over measurements and category list\n",
    "    for im, (meas, cat) in enumerate(meas_cat_unnested):\n",
    "        samp = meas.get_sample(sample_name)\n",
    "        # retrieve yields as tuple (nominal, error)\n",
    "        yields_nom = samp.yields(meas.rfile, cat.cats, name='nominal')\n",
    "        h_nom.GetXaxis().SetBinLabel(im  + 1, cat.name)    \n",
    "        h_nom.SetBinContent(im + 1, 1)    \n",
    "        h_nom.SetBinError(im + 1, yields_nom[1] / yields_nom[0])    \n",
    "\n",
    "        sqr_env_up = 0\n",
    "        sqr_env_do = 0\n",
    "        #print im + 1, cat.name, 'nominal', samp.yields(meas.rfile, cat.cats, name='nominal')[0]\n",
    "        for (high, low) in systematics:\n",
    "            yields_high = samp.yields(meas.rfile, cat.cats, name=high)[0]\n",
    "            yields_low  = samp.yields(meas.rfile, cat.cats, name=low)[0]\n",
    "\n",
    "            if yields_high > yields_low:\n",
    "                yields_up = yields_high\n",
    "                yields_do = yields_low\n",
    "            else:\n",
    "                yields_up = yields_low\n",
    "                yields_do = yields_high\n",
    "\n",
    "            if yields_up < yields_nom[0]:\n",
    "                yields_up = yields_nom[0] + (yields_nom[0] - max(yields_up, yields_do))\n",
    "                \n",
    "            if yields_do > yields_nom[0]:\n",
    "                yields_do = yields_nom[0] + (yields_nom[0] - min(yields_up, yields_do))\n",
    "                \n",
    "            if yields_do <= 0.:\n",
    "                yields_do = yields_nom[0] + (yields_nom[0] - yields_up)\n",
    "\n",
    "            #print im + 1, cat.name, high, yields_nom[0], yields_up, yields_do\n",
    "\n",
    "            sqr_env_up += (yields_up - yields_nom[0])**2\n",
    "            sqr_env_do += (yields_do - yields_nom[0])**2\n",
    "\n",
    "        #print math.sqrt(sqr_env_up), math.sqrt(sqr_env_do)\n",
    "        env_up = math.sqrt(sqr_env_up) / yields_nom[0] \n",
    "        env_do = math.sqrt(sqr_env_do) / yields_nom[0]\n",
    "        stat_error = yields_nom[1] / yields_nom[0]      \n",
    "        g_nom.SetPoint(im, im + 0.5, 1)\n",
    "        g_nom.SetPointError(im, 0.5, 0.5, stat_error, stat_error)\n",
    "        h_sys.SetPoint(im, im + 0.5, 1)\n",
    "        h_sys.SetPointError(im, 0.5, 0.5, env_do, env_up)\n",
    "\n",
    "\n",
    "        #print im + 1, cat.name, env_do, env_up\n",
    "        \n",
    "    h_nom.SetMarkerSize(0.0001)\n",
    "    g_nom.SetFillStyle(3005)\n",
    "    g_nom.SetFillColor(ROOT.kBlue)\n",
    "\n",
    "\n",
    "    h_nom.GetYaxis().SetRangeUser(0.6, 1.4)\n",
    "    h_nom.GetYaxis().SetTitle('Relative Uncert.')\n",
    "    h_nom.GetXaxis().SetTitle('signal region')\n",
    "    h_nom.GetXaxis().SetLabelSize(0.7 * h_nom.GetXaxis().GetLabelSize())\n",
    "    h_sys.SetFillColor(ROOT.kRed)\n",
    "    canv = ROOT.TCanvas(uuid.uuid4().hex, 'np_summary', 1000, 400)\n",
    "    h_nom.Draw('HIST')\n",
    "    h_sys.Draw('sameE2')\n",
    "    h_nom.Draw('sameHIST')\n",
    "    g_nom.Draw('same2')\n",
    "    canv.RedrawAxis()\n",
    "    return canv\n",
    "\n",
    "\n",
    "        "
   ]
  },
  {
   "cell_type": "code",
   "execution_count": 20,
   "metadata": {},
   "outputs": [
    {
     "name": "stderr",
     "output_type": "stream",
     "text": [
      "WARNING:rootpy.tools.tools.sample] try to use nominal instead of jet_jer_crosscalibfwd_low\n",
      "WARNING:rootpy.tools.tools.sample] try to use nominal instead of jet_jer_crosscalibfwd_low\n",
      "WARNING:rootpy.tools.tools.sample] try to use nominal instead of jet_jer_noisefwd_low\n",
      "WARNING:rootpy.tools.tools.sample] try to use nominal instead of jet_jer_noisefwd_low\n"
     ]
    },
    {
     "name": "stdout",
     "output_type": "stream",
     "text": [
      "\t wrong name: llAll_cba_vbf_tight_signal, Ztt, jet_jer_crosscalibfwd_low\n",
      "\t wrong name: llAll_cba_vbf_tight_signal, ZttEWK, jet_jer_crosscalibfwd_low\n",
      "\t wrong name: llAll_cba_vbf_tight_signal, Ztt, jet_jer_noisefwd_low\n",
      "\t wrong name: llAll_cba_vbf_tight_signal, ZttEWK, jet_jer_noisefwd_low\n"
     ]
    },
    {
     "name": "stderr",
     "output_type": "stream",
     "text": [
      "WARNING:rootpy.tools.tools.sample] try to use nominal instead of jet_jer_crosscalibfwd_low\n",
      "WARNING:rootpy.tools.tools.sample] try to use nominal instead of jet_jer_crosscalibfwd_low\n",
      "WARNING:rootpy.tools.tools.sample] try to use nominal instead of jet_jer_noisefwd_low\n",
      "WARNING:rootpy.tools.tools.sample] try to use nominal instead of jet_jer_noisefwd_low\n"
     ]
    },
    {
     "name": "stdout",
     "output_type": "stream",
     "text": [
      "\t wrong name: llAll_cba_vbf_loose_signal, Ztt, jet_jer_crosscalibfwd_low\n",
      "\t wrong name: llAll_cba_vbf_loose_signal, ZttEWK, jet_jer_crosscalibfwd_low\n",
      "\t wrong name: llAll_cba_vbf_loose_signal, Ztt, jet_jer_noisefwd_low\n",
      "\t wrong name: llAll_cba_vbf_loose_signal, ZttEWK, jet_jer_noisefwd_low\n"
     ]
    },
    {
     "name": "stderr",
     "output_type": "stream",
     "text": [
      "INFO:ROOT.TCanvas.Print] png file /var/folders/yf/43k_1b814y3d2yx1rqlfxr5c0000gn/T/tmpBHbylr.png has been created\n"
     ]
    },
    {
     "data": {
      "image/png": "[encoded data removed]",
      "text/plain": [
       "Canvas('4de0cb0dcc3a433b92b5cb95510e804b')"
      ]
     },
     "execution_count": 20,
     "metadata": {},
     "output_type": "execute_result"
    }
   ],
   "source": [
    "c = np_summary_plot(measurements, category_vbf_list, jer_nps)\n",
    "c"
   ]
  },
  {
   "cell_type": "code",
   "execution_count": 21,
   "metadata": {},
   "outputs": [],
   "source": [
    "ztt = lh_meas.get_sample('Ztt')"
   ]
  },
  {
   "cell_type": "code",
   "execution_count": 22,
   "metadata": {},
   "outputs": [],
   "source": [
    "all_systs = ztt.syst_dict(lh_cat_vbf_sr[0].cats, lh_meas.rfile)"
   ]
  },
  {
   "cell_type": "code",
   "execution_count": 23,
   "metadata": {},
   "outputs": [
    {
     "name": "stdout",
     "output_type": "stream",
     "text": [
      "('btag_b_0_high', 'btag_b_0_low')\n",
      "('btag_b_1_high', 'btag_b_1_low')\n",
      "('btag_b_2_high', 'btag_b_2_low')\n",
      "('btag_c_0_high', 'btag_c_0_low')\n",
      "('btag_c_1_high', 'btag_c_1_low')\n",
      "('btag_c_2_high', 'btag_c_2_low')\n",
      "('btag_extrapolation_high', 'btag_extrapolation_low')\n",
      "('btag_extrapolation_from_charm_high', 'btag_extrapolation_from_charm_low')\n",
      "('btag_light_0_high', 'btag_light_0_low')\n",
      "('btag_light_1_high', 'btag_light_1_low')\n",
      "('btag_light_2_high', 'btag_light_2_low')\n",
      "('btag_light_3_high', 'btag_light_3_low')\n",
      "('btag_light_4_high', 'btag_light_4_low')\n",
      "('el_eff_id_high', 'el_eff_id_low')\n",
      "('el_eff_iso_high', 'el_eff_iso_low')\n",
      "('el_eff_reco_high', 'el_eff_reco_low')\n",
      "('el_eff_trigger_high', 'el_eff_trigger_low')\n",
      "('el_es_res_high', 'el_es_res_low')\n",
      "('el_es_scale_high', 'el_es_scale_low')\n",
      "('el_es_scale_e4scintillator_high', 'el_es_scale_e4scintillator_low')\n",
      "('el_es_scale_larcalib_high', 'el_es_scale_larcalib_low')\n",
      "('el_es_scale_lartemperature_extra2015pre_high', 'el_es_scale_lartemperature_extra2015pre_low')\n",
      "('el_es_scale_lartemperature_extra2016pre_high', 'el_es_scale_lartemperature_extra2016pre_low')\n",
      "('jet_fjvteff_high', 'jet_fjvteff_low')\n",
      "('jet_jer_high', '')\n",
      "('jet_jer_crosscalibfwd_high', 'jet_jer_crosscalibfwd_low')\n",
      "('jet_jer_noisefwd_high', 'jet_jer_noisefwd_low')\n",
      "('jet_jer_np0_high', 'jet_jer_np0_low')\n",
      "('jet_jer_np1_high', 'jet_jer_np1_low')\n",
      "('jet_jer_np2_high', 'jet_jer_np2_low')\n",
      "('jet_jer_np3_high', 'jet_jer_np3_low')\n",
      "('jet_jer_np4_high', 'jet_jer_np4_low')\n",
      "('jet_jer_np5_high', 'jet_jer_np5_low')\n",
      "('jet_jer_np6_high', 'jet_jer_np6_low')\n",
      "('jet_jer_np7_high', 'jet_jer_np7_low')\n",
      "('jet_jer_np8_high', 'jet_jer_np8_low')\n",
      "('jet_jes_bjes_response_high', 'jet_jes_bjes_response_low')\n",
      "('jet_jes_effectivenp_1_high', 'jet_jes_effectivenp_1_low')\n",
      "('jet_jes_effectivenp_2_high', 'jet_jes_effectivenp_2_low')\n",
      "('jet_jes_effectivenp_3_high', 'jet_jes_effectivenp_3_low')\n",
      "('jet_jes_effectivenp_4_high', 'jet_jes_effectivenp_4_low')\n",
      "('jet_jes_effectivenp_5_high', 'jet_jes_effectivenp_5_low')\n",
      "('jet_jes_effectivenp_6_high', 'jet_jes_effectivenp_6_low')\n",
      "('jet_jes_effectivenp_7_high', 'jet_jes_effectivenp_7_low')\n",
      "('jet_jes_effectivenp_8restterm_high', 'jet_jes_effectivenp_8restterm_low')\n",
      "('jet_jes_etaintercalibration_modelling_high', 'jet_jes_etaintercalibration_modelling_low')\n",
      "('jet_jes_etaintercalibration_nonclosure_high', 'jet_jes_etaintercalibration_nonclosure_low')\n",
      "('jet_jes_etaintercalibration_totalstat_high', 'jet_jes_etaintercalibration_totalstat_low')\n",
      "('jet_jes_flavor_composition_high', 'jet_jes_flavor_composition_low')\n",
      "('jet_jes_flavor_response_high', 'jet_jes_flavor_response_low')\n",
      "('jet_jes_pileup_offsetmu_high', 'jet_jes_pileup_offsetmu_low')\n",
      "('jet_jes_pileup_offsetnpv_high', 'jet_jes_pileup_offsetnpv_low')\n",
      "('jet_jes_pileup_ptterm_high', 'jet_jes_pileup_ptterm_low')\n",
      "('jet_jes_pileup_rhotopology_high', 'jet_jes_pileup_rhotopology_low')\n",
      "('jet_jes_punchthrough_mc15_high', 'jet_jes_punchthrough_mc15_low')\n",
      "('jet_jes_singleparticle_highpt_high', 'jet_jes_singleparticle_highpt_low')\n",
      "('jet_jvteff_high', 'jet_jvteff_low')\n",
      "('lh_fake_nonclosure_high', '')\n",
      "('lh_fake_rvar_high', 'lh_fake_rvar_low')\n",
      "('lh_fake_stat_high', 'lh_fake_stat_low')\n",
      "('met_softtrk_resopara_high', '')\n",
      "('met_softtrk_resoperp_high', '')\n",
      "('met_softtrk_scale_high', 'met_softtrk_scale_low')\n",
      "('mu_eff_isostat_high', 'mu_eff_isostat_low')\n",
      "('mu_eff_isosys_high', 'mu_eff_isosys_low')\n",
      "('mu_eff_stat_high', 'mu_eff_stat_low')\n",
      "('mu_eff_statlowpt_high', 'mu_eff_statlowpt_low')\n",
      "('mu_eff_sys_high', 'mu_eff_sys_low')\n",
      "('mu_eff_syslowpt_high', 'mu_eff_syslowpt_low')\n",
      "('mu_eff_trigger_stat_high', 'mu_eff_trigger_stat_low')\n",
      "('mu_eff_trigger_sys_high', 'mu_eff_trigger_sys_low')\n",
      "('mu_es_id_high', 'mu_es_id_low')\n",
      "('mu_es_ms_high', 'mu_es_ms_low')\n",
      "('mu_es_sagitta_resbias_high', 'mu_es_sagitta_resbias_low')\n",
      "('mu_es_sagitta_rho_high', 'mu_es_sagitta_rho_low')\n",
      "('mu_es_scale_high', 'mu_es_scale_low')\n",
      "('pu_prw_high', 'pu_prw_low')\n",
      "('tau_eff_eleolr_trueelectron_high', 'tau_eff_eleolr_trueelectron_low')\n",
      "('tau_eff_eleolr_truehadtau_high', 'tau_eff_eleolr_truehadtau_low')\n",
      "('tau_eff_jetid_highpt_high', 'tau_eff_jetid_highpt_low')\n",
      "('tau_eff_jetid_total_high', 'tau_eff_jetid_total_low')\n",
      "('tau_eff_reco_highpt_high', 'tau_eff_reco_highpt_low')\n",
      "('tau_eff_reco_total_high', 'tau_eff_reco_total_low')\n",
      "('tau_tes_detector_high', 'tau_tes_detector_low')\n",
      "('tau_tes_insitu_high', 'tau_tes_insitu_low')\n",
      "('tau_tes_model_high', 'tau_tes_model_low')\n",
      "('theory_sig_alphaS_high', 'theory_sig_alphaS_low')\n",
      "('theory_sig_pdf_0_high', '')\n",
      "('theory_sig_pdf_1_high', '')\n",
      "('theory_sig_pdf_10_high', '')\n",
      "('theory_sig_pdf_11_high', '')\n",
      "('theory_sig_pdf_12_high', '')\n",
      "('theory_sig_pdf_13_high', '')\n",
      "('theory_sig_pdf_14_high', '')\n",
      "('theory_sig_pdf_15_high', '')\n",
      "('theory_sig_pdf_16_high', '')\n",
      "('theory_sig_pdf_17_high', '')\n",
      "('theory_sig_pdf_18_high', '')\n",
      "('theory_sig_pdf_19_high', '')\n",
      "('theory_sig_pdf_2_high', '')\n",
      "('theory_sig_pdf_20_high', '')\n",
      "('theory_sig_pdf_21_high', '')\n",
      "('theory_sig_pdf_22_high', '')\n",
      "('theory_sig_pdf_23_high', '')\n",
      "('theory_sig_pdf_24_high', '')\n",
      "('theory_sig_pdf_25_high', '')\n",
      "('theory_sig_pdf_26_high', '')\n",
      "('theory_sig_pdf_27_high', '')\n",
      "('theory_sig_pdf_28_high', '')\n",
      "('theory_sig_pdf_29_high', '')\n",
      "('theory_sig_pdf_3_high', '')\n",
      "('theory_sig_pdf_4_high', '')\n",
      "('theory_sig_pdf_5_high', '')\n",
      "('theory_sig_pdf_6_high', '')\n",
      "('theory_sig_pdf_7_high', '')\n",
      "('theory_sig_pdf_8_high', '')\n",
      "('theory_sig_pdf_9_high', '')\n",
      "('theory_sig_qcd_0_high', '')\n",
      "('theory_sig_qcd_1_high', '')\n",
      "('theory_sig_qcd_2_high', '')\n",
      "('theory_sig_qcd_3_high', '')\n",
      "('theory_sig_qcd_4_high', '')\n",
      "('theory_sig_qcd_5_high', '')\n",
      "('theory_sig_qcd_6_high', '')\n",
      "('theory_sig_qcd_7_high', '')\n",
      "('theory_sig_qcd_8_high', '')\n",
      "('theory_ztt_PDF_high', 'theory_ztt_PDF_low')\n",
      "('theory_ztt_ckk_high', 'theory_ztt_ckk_low')\n",
      "('theory_ztt_lhe3weight_mur05_muf05_pdf261000_high', '')\n",
      "('theory_ztt_lhe3weight_mur05_muf1_pdf261000_high', '')\n",
      "('theory_ztt_lhe3weight_mur1_muf05_pdf261000_high', '')\n",
      "('theory_ztt_lhe3weight_mur1_muf2_pdf261000_high', '')\n",
      "('theory_ztt_lhe3weight_mur2_muf1_pdf261000_high', '')\n",
      "('theory_ztt_lhe3weight_mur2_muf2_pdf261000_high', '')\n",
      "('theory_ztt_qsf_high', 'theory_ztt_qsf_low')\n"
     ]
    }
   ],
   "source": [
    "for k in sorted(all_systs.keys()):\n",
    "    print \"('{0}', '{1}')\".format(all_systs[k]['high'], all_systs[k]['low'])"
   ]
  },
  {
   "cell_type": "code",
   "execution_count": 24,
   "metadata": {},
   "outputs": [
    {
     "name": "stderr",
     "output_type": "stream",
     "text": [
      "WARNING:rootpy.tools.tools.sample] try to use nominal instead of jet_jer_crosscalibfwd_low\n",
      "WARNING:rootpy.tools.tools.sample] try to use nominal instead of jet_jer_crosscalibfwd_low\n",
      "WARNING:rootpy.tools.tools.sample] try to use nominal instead of jet_jer_noisefwd_low\n",
      "WARNING:rootpy.tools.tools.sample] try to use nominal instead of jet_jer_noisefwd_low\n"
     ]
    },
    {
     "name": "stdout",
     "output_type": "stream",
     "text": [
      "\t wrong name: llAll_cba_boost_tight_signal, Ztt, jet_jer_crosscalibfwd_low\n",
      "\t wrong name: llAll_cba_boost_tight_signal, ZttEWK, jet_jer_crosscalibfwd_low\n",
      "\t wrong name: llAll_cba_boost_tight_signal, Ztt, jet_jer_noisefwd_low\n",
      "\t wrong name: llAll_cba_boost_tight_signal, ZttEWK, jet_jer_noisefwd_low\n"
     ]
    },
    {
     "name": "stderr",
     "output_type": "stream",
     "text": [
      "WARNING:rootpy.tools.tools.sample] try to use nominal instead of jet_jer_crosscalibfwd_low\n",
      "WARNING:rootpy.tools.tools.sample] try to use nominal instead of jet_jer_crosscalibfwd_low\n",
      "WARNING:rootpy.tools.tools.sample] try to use nominal instead of jet_jer_noisefwd_low\n",
      "WARNING:rootpy.tools.tools.sample] try to use nominal instead of jet_jer_noisefwd_low\n"
     ]
    },
    {
     "name": "stdout",
     "output_type": "stream",
     "text": [
      "\t wrong name: llAll_cba_boost_loose_signal, Ztt, jet_jer_crosscalibfwd_low\n",
      "\t wrong name: llAll_cba_boost_loose_signal, ZttEWK, jet_jer_crosscalibfwd_low\n",
      "\t wrong name: llAll_cba_boost_loose_signal, Ztt, jet_jer_noisefwd_low\n",
      "\t wrong name: llAll_cba_boost_loose_signal, ZttEWK, jet_jer_noisefwd_low\n"
     ]
    },
    {
     "name": "stderr",
     "output_type": "stream",
     "text": [
      "INFO:ROOT.TCanvas.Print] png file /var/folders/yf/43k_1b814y3d2yx1rqlfxr5c0000gn/T/tmp3nB6Yd.png has been created\n"
     ]
    },
    {
     "data": {
      "image/png": "[encoded data removed]",
      "text/plain": [
       "Canvas('278b94d8271c47a083ce894d52896568')"
      ]
     },
     "execution_count": 24,
     "metadata": {},
     "output_type": "execute_result"
    }
   ],
   "source": [
    "c = np_summary_plot(measurements, category_bst_list, jer_nps)\n",
    "c"
   ]
  },
  {
   "cell_type": "code",
   "execution_count": 25,
   "metadata": {},
   "outputs": [
    {
     "name": "stderr",
     "output_type": "stream",
     "text": [
      "INFO:ROOT.TCanvas.Print] pdf file jet_summary_bst.pdf has been created\n"
     ]
    }
   ],
   "source": [
    "c.SaveAs('jet_summary_bst.pdf')"
   ]
  },
  {
   "cell_type": "code",
   "execution_count": null,
   "metadata": {},
   "outputs": [],
   "source": []
  }
 ],
 "metadata": {
  "kernelspec": {
   "display_name": "Python 2",
   "language": "python",
   "name": "python2"
  },
  "language_info": {
   "codemirror_mode": {
    "name": "ipython",
    "version": 2
   },
   "file_extension": ".py",
   "mimetype": "text/x-python",
   "name": "python",
   "nbconvert_exporter": "python",
   "pygments_lexer": "ipython2",
   "version": "2.7.10"
  }
 },
 "nbformat": 4,
 "nbformat_minor": 2
}
